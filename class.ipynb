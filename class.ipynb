{
 "cells": [
  {
   "cell_type": "code",
   "execution_count": 38,
   "metadata": {},
   "outputs": [],
   "source": [
    "from datetime import datetime\n",
    "\n",
    "class Contact(object):\n",
    "    def __init__(self , Last_name , First_name , phone_number ,creation_date):\n",
    "        \n",
    "        self.Last_name = Last_name\n",
    "        self.Firtst_name = First_name\n",
    "        \n",
    "        self.phone_number = phone_number\n",
    "        self.update_phone_number = None\n",
    "        \n",
    "        self.creation_date = datetime.today()\n",
    "        \n",
    "        \n",
    "    \n",
    "    def update(self, new_phone):\n",
    "        \n",
    "        self.update_phone_number = datetime.today()\n",
    "        self.phone_number = new_phone    \n",
    "    \n",
    "         "
   ]
  },
  {
   "cell_type": "code",
   "execution_count": 42,
   "metadata": {},
   "outputs": [
    {
     "name": "stdout",
     "output_type": "stream",
     "text": [
      "<__main__.Contact object at 0x00000267B9C837D0>\n"
     ]
    },
    {
     "data": {
      "text/plain": [
       "'987'"
      ]
     },
     "execution_count": 42,
     "metadata": {},
     "output_type": "execute_result"
    }
   ],
   "source": [
    "\n",
    "user = Contact('Last_name' , 'First_name' , 'phone_number' ,'creation_date')\n",
    "print(user)\n",
    "\n",
    "user.update('987')\n",
    "user.phone_number"
   ]
  }
 ],
 "metadata": {
  "kernelspec": {
   "display_name": "Python 3",
   "language": "python",
   "name": "python3"
  },
  "language_info": {
   "codemirror_mode": {
    "name": "ipython",
    "version": 3
   },
   "file_extension": ".py",
   "mimetype": "text/x-python",
   "name": "python",
   "nbconvert_exporter": "python",
   "pygments_lexer": "ipython3",
   "version": "3.11.1"
  },
  "orig_nbformat": 4,
  "vscode": {
   "interpreter": {
    "hash": "2474e9521ac95067d0962e0ce9b5d833e5bb24442c4f1df99d30c0884888b2ac"
   }
  }
 },
 "nbformat": 4,
 "nbformat_minor": 2
}
