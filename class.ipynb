{
 "cells": [
  {
   "cell_type": "code",
   "execution_count": 25,
   "metadata": {},
   "outputs": [],
   "source": [
    "from datetime import datetime\n",
    "\n",
    "class Contact(object):\n",
    "    def __init__(self , Last_name , First_name , phone_number ,creation_date):\n",
    "        \n",
    "        self.Last_name = Last_name\n",
    "        self.Firtst_name = First_name\n",
    "        \n",
    "        self.phone_number = phone_number\n",
    "        self.update_phone_number = None\n",
    "        \n",
    "        self.creation_date = creation_date.today()\n",
    "        \n",
    "        \n",
    "    \n",
    "        def update(self, new_phone):\n",
    "            self.update_phone_number = creation_date.today()\n",
    "            self.phone_number = new_phone    \n",
    "    \n",
    "         "
   ]
  }
 ],
 "metadata": {
  "kernelspec": {
   "display_name": "Python 3",
   "language": "python",
   "name": "python3"
  },
  "language_info": {
   "codemirror_mode": {
    "name": "ipython",
    "version": 3
   },
   "file_extension": ".py",
   "mimetype": "text/x-python",
   "name": "python",
   "nbconvert_exporter": "python",
   "pygments_lexer": "ipython3",
   "version": "3.11.1"
  },
  "orig_nbformat": 4,
  "vscode": {
   "interpreter": {
    "hash": "2474e9521ac95067d0962e0ce9b5d833e5bb24442c4f1df99d30c0884888b2ac"
   }
  }
 },
 "nbformat": 4,
 "nbformat_minor": 2
}
