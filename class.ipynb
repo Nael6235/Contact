{
 "cells": [
  {
   "cell_type": "code",
   "execution_count": null,
   "metadata": {},
   "outputs": [],
   "source": [
    "from datetime import date\n",
    "\n",
    "class Constructor(object):\n",
    "    def _int_(self , Last_name , First_name , phone ,creation_date):\n",
    "        print(\"Your last name\")\n",
    "        self.Last_name = Last_name\n",
    "        print(\"Your First name\")\n",
    "        self.Firtst_name = First_name\n",
    "        print(\"Your phone number\")\n",
    "        self.phone = phone\n",
    "        print(\"La date de creation\")\n",
    "        self.creation_date = creation_date\n",
    "    \n",
    "    def show(self):\n",
    "        print(self.Last_name)\n",
    "        print(self.First_name)\n",
    "        print(self.phone)\n",
    "        print(self.creation_date)\n",
    "    \n",
    "a = Constructor('hb','nael','006',)       "
   ]
  },
  {
   "cell_type": "code",
   "execution_count": null,
   "metadata": {},
   "outputs": [],
   "source": [
    "\n",
    "    \n"
   ]
  }
 ],
 "metadata": {
  "kernelspec": {
   "display_name": "Python 3",
   "language": "python",
   "name": "python3"
  },
  "language_info": {
   "name": "python",
   "version": "3.11.1 (tags/v3.11.1:a7a450f, Dec  6 2022, 19:58:39) [MSC v.1934 64 bit (AMD64)]"
  },
  "orig_nbformat": 4,
  "vscode": {
   "interpreter": {
    "hash": "2474e9521ac95067d0962e0ce9b5d833e5bb24442c4f1df99d30c0884888b2ac"
   }
  }
 },
 "nbformat": 4,
 "nbformat_minor": 2
}
