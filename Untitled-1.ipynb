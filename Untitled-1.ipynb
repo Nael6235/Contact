{
 "cells": [
  {
   "cell_type": "code",
   "execution_count": 1,
   "metadata": {},
   "outputs": [],
   "source": [
    "from datetime import datetime\n",
    "first_name = \"nael\"\n",
    "last_name = \"HamouzaBacar\"\n",
    "date = datetime(2002,11,24)\n",
    "Phone = \"0648372372\""
   ]
  }
 ],
 "metadata": {
  "kernelspec": {
   "display_name": "Python 3",
   "language": "python",
   "name": "python3"
  },
  "language_info": {
   "codemirror_mode": {
    "name": "ipython",
    "version": 3
   },
   "file_extension": ".py",
   "mimetype": "text/x-python",
   "name": "python",
   "nbconvert_exporter": "python",
   "pygments_lexer": "ipython3",
   "version": "3.11.1"
  },
  "orig_nbformat": 4,
  "vscode": {
   "interpreter": {
    "hash": "2474e9521ac95067d0962e0ce9b5d833e5bb24442c4f1df99d30c0884888b2ac"
   }
  }
 },
 "nbformat": 4,
 "nbformat_minor": 2
}
