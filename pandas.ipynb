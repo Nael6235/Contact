{
 "cells": [
  {
   "cell_type": "code",
   "execution_count": 21,
   "metadata": {},
   "outputs": [
    {
     "name": "stdout",
     "output_type": "stream",
     "text": [
      "      0\n",
      "0   uzu\n",
      "1  nael\n",
      "2    yy\n",
      "3   bdb\n",
      "4    op\n",
      "\n",
      "CSV String:\n",
      " ,0\n",
      "0,uzu\n",
      "1,nael\n",
      "2,yy\n",
      "3,bdb\n",
      "4,op\n",
      "\n"
     ]
    }
   ],
   "source": [
    "import pandas as pd\n",
    "\n",
    "dic = {\"nael\",\"bdb\",\"yy\",\"op\",\"uzu\"}\n",
    "\n",
    "df = pd.DataFrame.from_dict(dic)\n",
    "print(df)\n",
    "\n",
    "csv_data = df.to_csv()\n",
    "print('\\nCSV String:\\n', csv_data)\n",
    "\n",
    "    "
   ]
  }
 ],
 "metadata": {
  "kernelspec": {
   "display_name": "Python 3",
   "language": "python",
   "name": "python3"
  },
  "language_info": {
   "codemirror_mode": {
    "name": "ipython",
    "version": 3
   },
   "file_extension": ".py",
   "mimetype": "text/x-python",
   "name": "python",
   "nbconvert_exporter": "python",
   "pygments_lexer": "ipython3",
   "version": "3.11.1"
  },
  "orig_nbformat": 4,
  "vscode": {
   "interpreter": {
    "hash": "2474e9521ac95067d0962e0ce9b5d833e5bb24442c4f1df99d30c0884888b2ac"
   }
  }
 },
 "nbformat": 4,
 "nbformat_minor": 2
}
