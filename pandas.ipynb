{
 "cells": [
  {
   "cell_type": "code",
   "execution_count": 27,
   "metadata": {},
   "outputs": [
    {
     "name": "stdout",
     "output_type": "stream",
     "text": [
      "  prenom   bdb  yy\n",
      "0    nael  bdb  yy\n",
      "\n",
      "CSV String:\n",
      " ,prenom ,bdb,yy\n",
      "0, nael,bdb,yy\n",
      "\n"
     ]
    }
   ],
   "source": [
    "import pandas as pd\n",
    "nael = \" nael\"\n",
    "bdb = \"bdb\"\n",
    "yy = \"yy\"\n",
    "dic = {\"prenom \" :  [nael] ,\"bdb\" : [bdb] , \"yy\" : [yy]}\n",
    "\n",
    "df = pd.DataFrame.from_dict(dic)\n",
    "print(df)\n",
    "\n",
    "csv_data = df.to_csv()\n",
    "print('\\nCSV String:\\n', csv_data)\n",
    "\n",
    "    "
   ]
  }
 ],
 "metadata": {
  "kernelspec": {
   "display_name": "Python 3",
   "language": "python",
   "name": "python3"
  },
  "language_info": {
   "codemirror_mode": {
    "name": "ipython",
    "version": 3
   },
   "file_extension": ".py",
   "mimetype": "text/x-python",
   "name": "python",
   "nbconvert_exporter": "python",
   "pygments_lexer": "ipython3",
   "version": "3.11.1"
  },
  "orig_nbformat": 4,
  "vscode": {
   "interpreter": {
    "hash": "2474e9521ac95067d0962e0ce9b5d833e5bb24442c4f1df99d30c0884888b2ac"
   }
  }
 },
 "nbformat": 4,
 "nbformat_minor": 2
}
