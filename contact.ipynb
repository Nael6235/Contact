{
 "cells": [
  {
   "cell_type": "code",
   "execution_count": 33,
   "metadata": {},
   "outputs": [],
   "source": [
    "from datetime import date\n",
    "\n",
    "def create_contact(nom ,prenom ,phonenumber,dates):\n",
    "    nom = input(\"nom de l'utilisateur :\")\n",
    "    print(\"nom : \", nom)\n",
    "    \n",
    "    prenom = input(\"prenom de lutisateur :\" )\n",
    "    print(\"prenom : \", prenom)\n",
    "    \n",
    "    phonenumber = input(\"veuillez ecrire votre numero de telephone : \")\n",
    "    print(\"numero de telephone : \", phonenumber)\n",
    "    \n",
    "    dates = date.today()\n",
    "    print(\"date de creation du profil : \", dates)\n",
    "    \n",
    "   \n",
    "    return nom , prenom , phonenumber , dates\n",
    "\n",
    "\n"
   ]
  },
  {
   "cell_type": "code",
   "execution_count": 49,
   "metadata": {},
   "outputs": [
    {
     "name": "stdout",
     "output_type": "stream",
     "text": [
      "\n",
      "<function show_contact at 0x000001C11958E5C0>\n",
      "nom :  hb\n",
      "prenom :  n\n",
      "numero de telephone :  345\n",
      "date de creation du profil :  2023-01-25\n"
     ]
    },
    {
     "data": {
      "text/plain": [
       "{('hb', 'n', '345', datetime.date(2023, 1, 25))}"
      ]
     },
     "execution_count": 49,
     "metadata": {},
     "output_type": "execute_result"
    }
   ],
   "source": [
    "def show_contact (create_contact):\n",
    "   a = {create_contact('nom','prenom','phonenumber','dates')}\n",
    "   return a\n",
    "\n",
    "\n",
    "\n",
    "print()\n",
    "print(show_contact)\n",
    "show_contact(create_contact) "
   ]
  }
 ],
 "metadata": {
  "kernelspec": {
   "display_name": "Python 3",
   "language": "python",
   "name": "python3"
  },
  "language_info": {
   "codemirror_mode": {
    "name": "ipython",
    "version": 3
   },
   "file_extension": ".py",
   "mimetype": "text/x-python",
   "name": "python",
   "nbconvert_exporter": "python",
   "pygments_lexer": "ipython3",
   "version": "3.11.1"
  },
  "orig_nbformat": 4,
  "vscode": {
   "interpreter": {
    "hash": "2474e9521ac95067d0962e0ce9b5d833e5bb24442c4f1df99d30c0884888b2ac"
   }
  }
 },
 "nbformat": 4,
 "nbformat_minor": 2
}
