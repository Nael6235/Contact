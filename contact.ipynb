{
 "cells": [
  {
   "cell_type": "code",
   "execution_count": 55,
   "metadata": {},
   "outputs": [
    {
     "name": "stdout",
     "output_type": "stream",
     "text": [
      "nom :  g\n",
      "prenom :  h\n",
      "numero de telephone :  976\n",
      "date de création :  2023-01-25\n",
      "g\n",
      "h\n",
      "976\n",
      "2023-01-25\n"
     ]
    }
   ],
   "source": [
    "from datetime import date\n",
    "\n",
    "def create_contact(nom ,prenom ,phonenumber,dates):\n",
    "    nom = input(\"nom de l'utilisateur :\")\n",
    "    print(\"nom : \", nom)\n",
    "    \n",
    "    prenom = input(\"prenom de lutisateur :\" )\n",
    "    print(\"prenom : \", prenom)\n",
    "    \n",
    "    phonenumber = input(\"veuillez ecrire votre numero de telephone : \")\n",
    "    print(\"numero de telephone : \", phonenumber)\n",
    "    \n",
    "    \n",
    "    dates = date.today()\n",
    "    print(\"date de création : \",dates)\n",
    "     \n",
    "    dico_contact = {\n",
    "        \"firstname\": nom,\n",
    "        \"lastname\": prenom,\n",
    "        \"phone\": phonenumber,\n",
    "        \"date\": dates\n",
    "    }\n",
    "    return dico_contact\n",
    "\n",
    "def show_contact(contact):\n",
    "    for values in contact.values():\n",
    "        print(values)\n",
    "\n",
    "\n",
    "contact = create_contact('nom','prenom','phonenumber','dates')\n",
    "show_contact(contact)\n",
    "\n",
    "\n"
   ]
  }
 ],
 "metadata": {
  "kernelspec": {
   "display_name": "Python 3",
   "language": "python",
   "name": "python3"
  },
  "language_info": {
   "codemirror_mode": {
    "name": "ipython",
    "version": 3
   },
   "file_extension": ".py",
   "mimetype": "text/x-python",
   "name": "python",
   "nbconvert_exporter": "python",
   "pygments_lexer": "ipython3",
   "version": "3.11.1"
  },
  "orig_nbformat": 4,
  "vscode": {
   "interpreter": {
    "hash": "2474e9521ac95067d0962e0ce9b5d833e5bb24442c4f1df99d30c0884888b2ac"
   }
  }
 },
 "nbformat": 4,
 "nbformat_minor": 2
}
