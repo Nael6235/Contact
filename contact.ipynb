{
 "cells": [
  {
   "cell_type": "code",
   "execution_count": 10,
   "metadata": {},
   "outputs": [
    {
     "ename": "SyntaxError",
     "evalue": "invalid syntax. Perhaps you forgot a comma? (1047908915.py, line 5)",
     "output_type": "error",
     "traceback": [
      "\u001b[1;36m  Cell \u001b[1;32mIn[10], line 5\u001b[1;36m\u001b[0m\n\u001b[1;33m    print(\"nom de l'utilisateur :\"nom)\u001b[0m\n\u001b[1;37m          ^\u001b[0m\n\u001b[1;31mSyntaxError\u001b[0m\u001b[1;31m:\u001b[0m invalid syntax. Perhaps you forgot a comma?\n"
     ]
    }
   ],
   "source": [
    "from datetime import datetime\n",
    "\n",
    "def create_contact(nom ,prenom ,date,phonenumber):\n",
    "    nom = input()\n",
    "    print(\"nom de l'utilisateur :\" , nom)\n",
    "    \n",
    "    prenom = input()\n",
    "    print(\"prenom de lutisateur :\" , prenom)\n",
    "    \n",
    "    date = datetime.today()\n",
    "    \n",
    "    phonenumber = input()\n",
    "    print(\"veuillez ecrire votre numero de telephone : \" , phonenumber)\n",
    "    \n",
    "    return nom , prenom , date , phonenumber\n",
    "\n",
    "\n"
   ]
  },
  {
   "cell_type": "code",
   "execution_count": null,
   "metadata": {},
   "outputs": [],
   "source": [
    "show_contact = {return(create_contact)}"
   ]
  }
 ],
 "metadata": {
  "kernelspec": {
   "display_name": "Python 3",
   "language": "python",
   "name": "python3"
  },
  "language_info": {
   "codemirror_mode": {
    "name": "ipython",
    "version": 3
   },
   "file_extension": ".py",
   "mimetype": "text/x-python",
   "name": "python",
   "nbconvert_exporter": "python",
   "pygments_lexer": "ipython3",
   "version": "3.11.1 (tags/v3.11.1:a7a450f, Dec  6 2022, 19:58:39) [MSC v.1934 64 bit (AMD64)]"
  },
  "orig_nbformat": 4,
  "vscode": {
   "interpreter": {
    "hash": "2474e9521ac95067d0962e0ce9b5d833e5bb24442c4f1df99d30c0884888b2ac"
   }
  }
 },
 "nbformat": 4,
 "nbformat_minor": 2
}
